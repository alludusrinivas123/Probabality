{
 "cells": [
  {
   "cell_type": "markdown",
   "id": "1b59fbe6-75c5-4ba5-97dd-b5fc25583ab9",
   "metadata": {},
   "source": [
    "# 📈 Customer Acquisition Modeling: Geometric Distribution Project"
   ]
  },
  {
   "cell_type": "markdown",
   "id": "5ada371c-b94a-42aa-afea-a6fffc193eb7",
   "metadata": {},
   "source": [
    "# 1. Import Libraries"
   ]
  },
  {
   "cell_type": "code",
   "execution_count": 48,
   "id": "16616592-9c3e-4fbf-8298-12e7588f5881",
   "metadata": {},
   "outputs": [],
   "source": [
    "import numpy as np\n",
    "import pandas as pd\n",
    "import matplotlib.pyplot as plt\n",
    "import seaborn as sns\n",
    "from fitter import Fitter\n",
    "import scipy.stats as stats"
   ]
  },
  {
   "cell_type": "markdown",
   "id": "8fb905ce-28c0-445c-97bc-9bcefb1322f4",
   "metadata": {},
   "source": [
    "# 2. Simulate Customer Touchpoint Data"
   ]
  },
  {
   "cell_type": "code",
   "execution_count": 51,
   "id": "8e03ad34-f149-4673-b6aa-083f1a69545d",
   "metadata": {},
   "outputs": [
    {
     "data": {
      "text/html": [
       "<div>\n",
       "<style scoped>\n",
       "    .dataframe tbody tr th:only-of-type {\n",
       "        vertical-align: middle;\n",
       "    }\n",
       "\n",
       "    .dataframe tbody tr th {\n",
       "        vertical-align: top;\n",
       "    }\n",
       "\n",
       "    .dataframe thead th {\n",
       "        text-align: right;\n",
       "    }\n",
       "</style>\n",
       "<table border=\"1\" class=\"dataframe\">\n",
       "  <thead>\n",
       "    <tr style=\"text-align: right;\">\n",
       "      <th></th>\n",
       "      <th>Customer_ID</th>\n",
       "      <th>Touchpoints_To_Convert</th>\n",
       "    </tr>\n",
       "  </thead>\n",
       "  <tbody>\n",
       "    <tr>\n",
       "      <th>0</th>\n",
       "      <td>1</td>\n",
       "      <td>6</td>\n",
       "    </tr>\n",
       "    <tr>\n",
       "      <th>1</th>\n",
       "      <td>2</td>\n",
       "      <td>37</td>\n",
       "    </tr>\n",
       "    <tr>\n",
       "      <th>2</th>\n",
       "      <td>3</td>\n",
       "      <td>16</td>\n",
       "    </tr>\n",
       "    <tr>\n",
       "      <th>3</th>\n",
       "      <td>4</td>\n",
       "      <td>11</td>\n",
       "    </tr>\n",
       "    <tr>\n",
       "      <th>4</th>\n",
       "      <td>5</td>\n",
       "      <td>3</td>\n",
       "    </tr>\n",
       "  </tbody>\n",
       "</table>\n",
       "</div>"
      ],
      "text/plain": [
       "   Customer_ID  Touchpoints_To_Convert\n",
       "0            1                       6\n",
       "1            2                      37\n",
       "2            3                      16\n",
       "3            4                      11\n",
       "4            5                       3"
      ]
     },
     "execution_count": 51,
     "metadata": {},
     "output_type": "execute_result"
    }
   ],
   "source": [
    "\n",
    "np.random.seed(42)\n",
    "\n",
    "# Business assumption: 8% success per contact attempt\n",
    "p_success = 0.08\n",
    "n_customers = 10000\n",
    "\n",
    "touchpoints = np.random.geometric(p_success, n_customers)\n",
    "\n",
    "df = pd.DataFrame({\n",
    "    'Customer_ID': range(1, n_customers + 1),\n",
    "    'Touchpoints_To_Convert': touchpoints\n",
    "})\n",
    "\n",
    "df.head()"
   ]
  },
  {
   "cell_type": "markdown",
   "id": "26959dce-6bf0-4a51-8133-7ca88621f64b",
   "metadata": {},
   "source": [
    "# 3. Exploratory Data Analysis (EDA)"
   ]
  },
  {
   "cell_type": "code",
   "execution_count": 54,
   "id": "af1e1738-e4f3-4cf7-907a-eeb6851c5285",
   "metadata": {},
   "outputs": [
    {
     "data": {
      "image/png": "[encoded data removed]",
      "text/plain": [
       "<Figure size 640x480 with 1 Axes>"
      ]
     },
     "metadata": {},
     "output_type": "display_data"
    },
    {
     "name": "stdout",
     "output_type": "stream",
     "text": [
      "count    10000.000000\n",
      "mean        12.233700\n",
      "std         11.684585\n",
      "min          1.000000\n",
      "25%          4.000000\n",
      "50%          9.000000\n",
      "75%         17.000000\n",
      "max         99.000000\n",
      "Name: Touchpoints_To_Convert, dtype: float64\n"
     ]
    }
   ],
   "source": [
    "sns.histplot(df['Touchpoints_To_Convert'], bins=30, stat=\"density\", color=\"skyblue\")\n",
    "plt.title(\"Distribution of Touchpoints Until Customer Converts\")\n",
    "plt.xlabel(\"Number of Touchpoints\")\n",
    "plt.ylabel(\"Density\")\n",
    "plt.show()\n",
    "\n",
    "print(df['Touchpoints_To_Convert'].describe())"
   ]
  },
  {
   "cell_type": "markdown",
   "id": "32f33c41-455b-47a7-911e-0c8e80f6aefe",
   "metadata": {},
   "source": [
    "# 4. Manual Estimation of p"
   ]
  },
  {
   "cell_type": "code",
   "execution_count": 57,
   "id": "cc7a105c-07d6-49f5-8902-db1c3f1ba08a",
   "metadata": {},
   "outputs": [
    {
     "name": "stdout",
     "output_type": "stream",
     "text": [
      "Manual Estimated p: 0.0817\n"
     ]
    }
   ],
   "source": [
    "manual_p = 1 / df['Touchpoints_To_Convert'].mean()\n",
    "print(f\"Manual Estimated p: {manual_p:.4f}\")\n"
   ]
  },
  {
   "cell_type": "markdown",
   "id": "ce42e182-672e-4894-bdae-3c74b70bc6d4",
   "metadata": {},
   "source": [
    "# 7. Business Insights"
   ]
  },
  {
   "cell_type": "code",
   "execution_count": 60,
   "id": "3c7102fa-74a3-42be-9d3f-2b09728be2fe",
   "metadata": {},
   "outputs": [
    {
     "name": "stdout",
     "output_type": "stream",
     "text": [
      "Average Cost per Acquisition (CAC): $12.23\n"
     ]
    },
    {
     "name": "stderr",
     "output_type": "stream",
     "text": [
      "C:\\Users\\WINDOWS\\AppData\\Local\\Temp\\ipykernel_12660\\802792276.py:18: FutureWarning: \n",
      "\n",
      "Passing `palette` without assigning `hue` is deprecated and will be removed in v0.14.0. Assign the `x` variable to `hue` and set `legend=False` for the same effect.\n",
      "\n",
      "  sns.countplot(x='Segment', data=df, palette='viridis')\n"
     ]
    },
    {
     "data": {
      "image/png": "[encoded data removed]",
      "text/plain": [
       "<Figure size 640x480 with 1 Axes>"
      ]
     },
     "metadata": {},
     "output_type": "display_data"
    },
    {
     "name": "stdout",
     "output_type": "stream",
     "text": [
      "Segment\n",
      "Average    37.78\n",
      "Easy       34.59\n",
      "Hard       27.63\n",
      "Name: proportion, dtype: float64\n"
     ]
    }
   ],
   "source": [
    "# Cost Analysis\n",
    "cost_per_ad = 1  # Assume $1 per ad exposure\n",
    "average_cost_per_conversion = df['Touchpoints_To_Convert'].mean() * cost_per_ad\n",
    "print(f\"Average Cost per Acquisition (CAC): ${average_cost_per_conversion:.2f}\")\n",
    "\n",
    "# Customer Segmentation based on touchpoints\n",
    "def segment_customer(touches):\n",
    "    if touches <= 5:\n",
    "        return 'Easy'\n",
    "    elif touches <= 15:\n",
    "        return 'Average'\n",
    "    else:\n",
    "        return 'Hard'\n",
    "\n",
    "df['Segment'] = df['Touchpoints_To_Convert'].apply(segment_customer)\n",
    "\n",
    "# Plot Segments\n",
    "sns.countplot(x='Segment', data=df, palette='viridis')\n",
    "plt.title('Customer Segmentation Based on Conversion Difficulty')\n",
    "plt.show()\n",
    "\n",
    "# Show segment breakdown\n",
    "print(df['Segment'].value_counts(normalize=True) * 100)\n"
   ]
  },
  {
   "cell_type": "markdown",
   "id": "83279199-cec1-4916-8b86-a7fcb08dc27b",
   "metadata": {},
   "source": [
    "# 8. Recommendations"
   ]
  },
  {
   "cell_type": "code",
   "execution_count": 63,
   "id": "150c443e-fe37-4b7d-8317-ee6e21ce853c",
   "metadata": {},
   "outputs": [
    {
     "name": "stdout",
     "output_type": "stream",
     "text": [
      "\n",
      "Business Recommendations:\n",
      "- Focus budget on customers converting within 5-15 touchpoints.\n",
      "- Set a hard stop after 20 touchpoints to avoid wasting ad spend.\n",
      "- Consider multi-channel strategy for 'Hard' customers.\n"
     ]
    }
   ],
   "source": [
    "print(\"\\nBusiness Recommendations:\")\n",
    "print(\"- Focus budget on customers converting within 5-15 touchpoints.\")\n",
    "print(\"- Set a hard stop after 20 touchpoints to avoid wasting ad spend.\")\n",
    "print(\"- Consider multi-channel strategy for 'Hard' customers.\")"
   ]
  },
  {
   "cell_type": "code",
   "execution_count": null,
   "id": "96e5772d-ff0a-4c5a-ba59-93d3a1073465",
   "metadata": {},
   "outputs": [],
   "source": []
  }
 ],
 "metadata": {
  "kernelspec": {
   "display_name": "Python [conda env:base] *",
   "language": "python",
   "name": "conda-base-py"
  },
  "language_info": {
   "codemirror_mode": {
    "name": "ipython",
    "version": 3
   },
   "file_extension": ".py",
   "mimetype": "text/x-python",
   "name": "python",
   "nbconvert_exporter": "python",
   "pygments_lexer": "ipython3",
   "version": "3.12.7"
  }
 },
 "nbformat": 4,
 "nbformat_minor": 5
}
