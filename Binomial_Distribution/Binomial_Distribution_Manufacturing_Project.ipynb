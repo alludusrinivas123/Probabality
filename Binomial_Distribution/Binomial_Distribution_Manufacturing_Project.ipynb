{
 "cells": [
  {
   "cell_type": "markdown",
   "id": "56542191",
   "metadata": {},
   "source": [
    "# Defect Rate Optimization Using Binomial Distribution\n",
    "This case study uses production data from a manufacturing company to analyze and optimize defect rates using binomial distribution."
   ]
  },
  {
   "cell_type": "markdown",
   "id": "d7cc1aa1",
   "metadata": {},
   "source": [
    "## 1. Import Libraries and Load Data"
   ]
  },
  {
   "cell_type": "code",
   "execution_count": 3,
   "id": "a1e209d3",
   "metadata": {},
   "outputs": [],
   "source": [
    "\n",
    "import pandas as pd\n",
    "import numpy as np\n",
    "import matplotlib.pyplot as plt\n",
    "import seaborn as sns\n",
    "from scipy.stats import binom, ttest_ind"
   ]
  },
  {
   "cell_type": "markdown",
   "id": "48575903",
   "metadata": {},
   "source": [
    "# Load raw data\n"
   ]
  },
  {
   "cell_type": "code",
   "execution_count": 5,
   "id": "31a0b975-3cf4-441f-8c5d-1bcaeec73d64",
   "metadata": {},
   "outputs": [
    {
     "data": {
      "text/html": [
       "<div>\n",
       "<style scoped>\n",
       "    .dataframe tbody tr th:only-of-type {\n",
       "        vertical-align: middle;\n",
       "    }\n",
       "\n",
       "    .dataframe tbody tr th {\n",
       "        vertical-align: top;\n",
       "    }\n",
       "\n",
       "    .dataframe thead th {\n",
       "        text-align: right;\n",
       "    }\n",
       "</style>\n",
       "<table border=\"1\" class=\"dataframe\">\n",
       "  <thead>\n",
       "    <tr style=\"text-align: right;\">\n",
       "      <th></th>\n",
       "      <th>Batch_ID</th>\n",
       "      <th>Date</th>\n",
       "      <th>Shift</th>\n",
       "      <th>Plant</th>\n",
       "      <th>State</th>\n",
       "      <th>Machine_Model</th>\n",
       "      <th>Machine_ID</th>\n",
       "      <th>Operator_ID</th>\n",
       "      <th>Total_Produced</th>\n",
       "      <th>Defective_Units</th>\n",
       "    </tr>\n",
       "  </thead>\n",
       "  <tbody>\n",
       "    <tr>\n",
       "      <th>0</th>\n",
       "      <td>B001</td>\n",
       "      <td>2025-01-16</td>\n",
       "      <td>B</td>\n",
       "      <td>Plant1</td>\n",
       "      <td>Maharashtra</td>\n",
       "      <td>MX-1000</td>\n",
       "      <td>M01</td>\n",
       "      <td>O109</td>\n",
       "      <td>1000</td>\n",
       "      <td>20</td>\n",
       "    </tr>\n",
       "    <tr>\n",
       "      <th>1</th>\n",
       "      <td>B002</td>\n",
       "      <td>2025-02-25</td>\n",
       "      <td>B</td>\n",
       "      <td>Plant3</td>\n",
       "      <td>Tamil Nadu</td>\n",
       "      <td>MX-3000</td>\n",
       "      <td>M05</td>\n",
       "      <td>O112</td>\n",
       "      <td>1000</td>\n",
       "      <td>15</td>\n",
       "    </tr>\n",
       "    <tr>\n",
       "      <th>2</th>\n",
       "      <td>B003</td>\n",
       "      <td>2025-01-31</td>\n",
       "      <td>C</td>\n",
       "      <td>Plant2</td>\n",
       "      <td>Tamil Nadu</td>\n",
       "      <td>MX-3000</td>\n",
       "      <td>M03</td>\n",
       "      <td>O119</td>\n",
       "      <td>1000</td>\n",
       "      <td>8</td>\n",
       "    </tr>\n",
       "    <tr>\n",
       "      <th>3</th>\n",
       "      <td>B004</td>\n",
       "      <td>2025-01-22</td>\n",
       "      <td>C</td>\n",
       "      <td>Plant1</td>\n",
       "      <td>Gujarat</td>\n",
       "      <td>MX-2000</td>\n",
       "      <td>M05</td>\n",
       "      <td>O107</td>\n",
       "      <td>1000</td>\n",
       "      <td>18</td>\n",
       "    </tr>\n",
       "    <tr>\n",
       "      <th>4</th>\n",
       "      <td>B005</td>\n",
       "      <td>2025-01-11</td>\n",
       "      <td>A</td>\n",
       "      <td>Plant2</td>\n",
       "      <td>Tamil Nadu</td>\n",
       "      <td>MX-3000</td>\n",
       "      <td>M06</td>\n",
       "      <td>O105</td>\n",
       "      <td>1000</td>\n",
       "      <td>14</td>\n",
       "    </tr>\n",
       "  </tbody>\n",
       "</table>\n",
       "</div>"
      ],
      "text/plain": [
       "  Batch_ID        Date Shift   Plant        State Machine_Model Machine_ID  \\\n",
       "0     B001  2025-01-16     B  Plant1  Maharashtra       MX-1000        M01   \n",
       "1     B002  2025-02-25     B  Plant3   Tamil Nadu       MX-3000        M05   \n",
       "2     B003  2025-01-31     C  Plant2   Tamil Nadu       MX-3000        M03   \n",
       "3     B004  2025-01-22     C  Plant1      Gujarat       MX-2000        M05   \n",
       "4     B005  2025-01-11     A  Plant2   Tamil Nadu       MX-3000        M06   \n",
       "\n",
       "  Operator_ID  Total_Produced  Defective_Units  \n",
       "0        O109            1000               20  \n",
       "1        O112            1000               15  \n",
       "2        O119            1000                8  \n",
       "3        O107            1000               18  \n",
       "4        O105            1000               14  "
      ]
     },
     "execution_count": 5,
     "metadata": {},
     "output_type": "execute_result"
    }
   ],
   "source": [
    "df = pd.read_csv(\"raw_manufacturing_data.csv\")\n",
    "df.head()"
   ]
  },
  {
   "cell_type": "markdown",
   "id": "ce86d794",
   "metadata": {},
   "source": [
    "## 2. Data Cleaning"
   ]
  },
  {
   "cell_type": "markdown",
   "id": "bc727038",
   "metadata": {},
   "source": [
    "### a. Check for Missing Values"
   ]
  },
  {
   "cell_type": "code",
   "execution_count": 8,
   "id": "bf3de431-03d8-4c9a-8240-16163d265c97",
   "metadata": {},
   "outputs": [
    {
     "data": {
      "text/plain": [
       "Batch_ID           0\n",
       "Date               0\n",
       "Shift              0\n",
       "Plant              0\n",
       "State              0\n",
       "Machine_Model      0\n",
       "Machine_ID         0\n",
       "Operator_ID        0\n",
       "Total_Produced     0\n",
       "Defective_Units    0\n",
       "dtype: int64"
      ]
     },
     "execution_count": 8,
     "metadata": {},
     "output_type": "execute_result"
    }
   ],
   "source": [
    "df.isnull().sum()"
   ]
  },
  {
   "cell_type": "markdown",
   "id": "26d93e9f",
   "metadata": {},
   "source": [
    "### b. Check for Duplicates"
   ]
  },
  {
   "cell_type": "code",
   "execution_count": 10,
   "id": "f2bc00a9-5752-4040-bf6d-e425318f4466",
   "metadata": {},
   "outputs": [
    {
     "data": {
      "text/html": [
       "<div>\n",
       "<style scoped>\n",
       "    .dataframe tbody tr th:only-of-type {\n",
       "        vertical-align: middle;\n",
       "    }\n",
       "\n",
       "    .dataframe tbody tr th {\n",
       "        vertical-align: top;\n",
       "    }\n",
       "\n",
       "    .dataframe thead th {\n",
       "        text-align: right;\n",
       "    }\n",
       "</style>\n",
       "<table border=\"1\" class=\"dataframe\">\n",
       "  <thead>\n",
       "    <tr style=\"text-align: right;\">\n",
       "      <th></th>\n",
       "      <th>Batch_ID</th>\n",
       "      <th>Date</th>\n",
       "      <th>Shift</th>\n",
       "      <th>Plant</th>\n",
       "      <th>State</th>\n",
       "      <th>Machine_Model</th>\n",
       "      <th>Machine_ID</th>\n",
       "      <th>Operator_ID</th>\n",
       "      <th>Total_Produced</th>\n",
       "      <th>Defective_Units</th>\n",
       "    </tr>\n",
       "  </thead>\n",
       "  <tbody>\n",
       "    <tr>\n",
       "      <th>0</th>\n",
       "      <td>B001</td>\n",
       "      <td>2025-01-16</td>\n",
       "      <td>B</td>\n",
       "      <td>Plant1</td>\n",
       "      <td>Maharashtra</td>\n",
       "      <td>MX-1000</td>\n",
       "      <td>M01</td>\n",
       "      <td>O109</td>\n",
       "      <td>1000</td>\n",
       "      <td>20</td>\n",
       "    </tr>\n",
       "    <tr>\n",
       "      <th>1</th>\n",
       "      <td>B002</td>\n",
       "      <td>2025-02-25</td>\n",
       "      <td>B</td>\n",
       "      <td>Plant3</td>\n",
       "      <td>Tamil Nadu</td>\n",
       "      <td>MX-3000</td>\n",
       "      <td>M05</td>\n",
       "      <td>O112</td>\n",
       "      <td>1000</td>\n",
       "      <td>15</td>\n",
       "    </tr>\n",
       "    <tr>\n",
       "      <th>2</th>\n",
       "      <td>B003</td>\n",
       "      <td>2025-01-31</td>\n",
       "      <td>C</td>\n",
       "      <td>Plant2</td>\n",
       "      <td>Tamil Nadu</td>\n",
       "      <td>MX-3000</td>\n",
       "      <td>M03</td>\n",
       "      <td>O119</td>\n",
       "      <td>1000</td>\n",
       "      <td>8</td>\n",
       "    </tr>\n",
       "    <tr>\n",
       "      <th>3</th>\n",
       "      <td>B004</td>\n",
       "      <td>2025-01-22</td>\n",
       "      <td>C</td>\n",
       "      <td>Plant1</td>\n",
       "      <td>Gujarat</td>\n",
       "      <td>MX-2000</td>\n",
       "      <td>M05</td>\n",
       "      <td>O107</td>\n",
       "      <td>1000</td>\n",
       "      <td>18</td>\n",
       "    </tr>\n",
       "    <tr>\n",
       "      <th>4</th>\n",
       "      <td>B005</td>\n",
       "      <td>2025-01-11</td>\n",
       "      <td>A</td>\n",
       "      <td>Plant2</td>\n",
       "      <td>Tamil Nadu</td>\n",
       "      <td>MX-3000</td>\n",
       "      <td>M06</td>\n",
       "      <td>O105</td>\n",
       "      <td>1000</td>\n",
       "      <td>14</td>\n",
       "    </tr>\n",
       "  </tbody>\n",
       "</table>\n",
       "</div>"
      ],
      "text/plain": [
       "  Batch_ID        Date Shift   Plant        State Machine_Model Machine_ID  \\\n",
       "0     B001  2025-01-16     B  Plant1  Maharashtra       MX-1000        M01   \n",
       "1     B002  2025-02-25     B  Plant3   Tamil Nadu       MX-3000        M05   \n",
       "2     B003  2025-01-31     C  Plant2   Tamil Nadu       MX-3000        M03   \n",
       "3     B004  2025-01-22     C  Plant1      Gujarat       MX-2000        M05   \n",
       "4     B005  2025-01-11     A  Plant2   Tamil Nadu       MX-3000        M06   \n",
       "\n",
       "  Operator_ID  Total_Produced  Defective_Units  \n",
       "0        O109            1000               20  \n",
       "1        O112            1000               15  \n",
       "2        O119            1000                8  \n",
       "3        O107            1000               18  \n",
       "4        O105            1000               14  "
      ]
     },
     "execution_count": 10,
     "metadata": {},
     "output_type": "execute_result"
    }
   ],
   "source": [
    "df.duplicated().sum()\n",
    "df = df.drop_duplicates()\n",
    "df.head()"
   ]
  },
  {
   "cell_type": "markdown",
   "id": "4045fe38",
   "metadata": {},
   "source": [
    "### c. Check for Outliers in Defective Units"
   ]
  },
  {
   "cell_type": "code",
   "execution_count": 12,
   "id": "7078b2d0-3b7d-4f72-a062-a1061a2a395b",
   "metadata": {},
   "outputs": [],
   "source": [
    "import matplotlib.pyplot as plt\n",
    "import seaborn as sns"
   ]
  },
  {
   "cell_type": "code",
   "execution_count": 13,
   "id": "c0ab2bb8",
   "metadata": {},
   "outputs": [
    {
     "data": {
      "image/png": "[encoded data removed]",
      "text/plain": [
       "<Figure size 1000x400 with 1 Axes>"
      ]
     },
     "metadata": {},
     "output_type": "display_data"
    }
   ],
   "source": [
    "plt.figure(figsize=(10, 4))\n",
    "sns.boxplot(x=df[\"Defective_Units\"])\n",
    "plt.title(\"Boxplot of Defective Units\")\n",
    "plt.show()"
   ]
  },
  {
   "cell_type": "markdown",
   "id": "5ec005b7",
   "metadata": {},
   "source": [
    "## 3. Feature Engineering\n",
    "Add a calculated defect rate per batch."
   ]
  },
  {
   "cell_type": "code",
   "execution_count": 15,
   "id": "97118daa-5391-4681-a388-71f2af4628e7",
   "metadata": {},
   "outputs": [
    {
     "data": {
      "text/html": [
       "<div>\n",
       "<style scoped>\n",
       "    .dataframe tbody tr th:only-of-type {\n",
       "        vertical-align: middle;\n",
       "    }\n",
       "\n",
       "    .dataframe tbody tr th {\n",
       "        vertical-align: top;\n",
       "    }\n",
       "\n",
       "    .dataframe thead th {\n",
       "        text-align: right;\n",
       "    }\n",
       "</style>\n",
       "<table border=\"1\" class=\"dataframe\">\n",
       "  <thead>\n",
       "    <tr style=\"text-align: right;\">\n",
       "      <th></th>\n",
       "      <th>Batch_ID</th>\n",
       "      <th>Date</th>\n",
       "      <th>Shift</th>\n",
       "      <th>Plant</th>\n",
       "      <th>State</th>\n",
       "      <th>Machine_Model</th>\n",
       "      <th>Machine_ID</th>\n",
       "      <th>Operator_ID</th>\n",
       "      <th>Total_Produced</th>\n",
       "      <th>Defective_Units</th>\n",
       "      <th>Defect_Rate</th>\n",
       "    </tr>\n",
       "  </thead>\n",
       "  <tbody>\n",
       "    <tr>\n",
       "      <th>0</th>\n",
       "      <td>B001</td>\n",
       "      <td>2025-01-16</td>\n",
       "      <td>B</td>\n",
       "      <td>Plant1</td>\n",
       "      <td>Maharashtra</td>\n",
       "      <td>MX-1000</td>\n",
       "      <td>M01</td>\n",
       "      <td>O109</td>\n",
       "      <td>1000</td>\n",
       "      <td>20</td>\n",
       "      <td>0.020</td>\n",
       "    </tr>\n",
       "    <tr>\n",
       "      <th>1</th>\n",
       "      <td>B002</td>\n",
       "      <td>2025-02-25</td>\n",
       "      <td>B</td>\n",
       "      <td>Plant3</td>\n",
       "      <td>Tamil Nadu</td>\n",
       "      <td>MX-3000</td>\n",
       "      <td>M05</td>\n",
       "      <td>O112</td>\n",
       "      <td>1000</td>\n",
       "      <td>15</td>\n",
       "      <td>0.015</td>\n",
       "    </tr>\n",
       "    <tr>\n",
       "      <th>2</th>\n",
       "      <td>B003</td>\n",
       "      <td>2025-01-31</td>\n",
       "      <td>C</td>\n",
       "      <td>Plant2</td>\n",
       "      <td>Tamil Nadu</td>\n",
       "      <td>MX-3000</td>\n",
       "      <td>M03</td>\n",
       "      <td>O119</td>\n",
       "      <td>1000</td>\n",
       "      <td>8</td>\n",
       "      <td>0.008</td>\n",
       "    </tr>\n",
       "    <tr>\n",
       "      <th>3</th>\n",
       "      <td>B004</td>\n",
       "      <td>2025-01-22</td>\n",
       "      <td>C</td>\n",
       "      <td>Plant1</td>\n",
       "      <td>Gujarat</td>\n",
       "      <td>MX-2000</td>\n",
       "      <td>M05</td>\n",
       "      <td>O107</td>\n",
       "      <td>1000</td>\n",
       "      <td>18</td>\n",
       "      <td>0.018</td>\n",
       "    </tr>\n",
       "    <tr>\n",
       "      <th>4</th>\n",
       "      <td>B005</td>\n",
       "      <td>2025-01-11</td>\n",
       "      <td>A</td>\n",
       "      <td>Plant2</td>\n",
       "      <td>Tamil Nadu</td>\n",
       "      <td>MX-3000</td>\n",
       "      <td>M06</td>\n",
       "      <td>O105</td>\n",
       "      <td>1000</td>\n",
       "      <td>14</td>\n",
       "      <td>0.014</td>\n",
       "    </tr>\n",
       "  </tbody>\n",
       "</table>\n",
       "</div>"
      ],
      "text/plain": [
       "  Batch_ID       Date Shift   Plant        State Machine_Model Machine_ID  \\\n",
       "0     B001 2025-01-16     B  Plant1  Maharashtra       MX-1000        M01   \n",
       "1     B002 2025-02-25     B  Plant3   Tamil Nadu       MX-3000        M05   \n",
       "2     B003 2025-01-31     C  Plant2   Tamil Nadu       MX-3000        M03   \n",
       "3     B004 2025-01-22     C  Plant1      Gujarat       MX-2000        M05   \n",
       "4     B005 2025-01-11     A  Plant2   Tamil Nadu       MX-3000        M06   \n",
       "\n",
       "  Operator_ID  Total_Produced  Defective_Units  Defect_Rate  \n",
       "0        O109            1000               20        0.020  \n",
       "1        O112            1000               15        0.015  \n",
       "2        O119            1000                8        0.008  \n",
       "3        O107            1000               18        0.018  \n",
       "4        O105            1000               14        0.014  "
      ]
     },
     "execution_count": 15,
     "metadata": {},
     "output_type": "execute_result"
    }
   ],
   "source": [
    "df['Defect_Rate'] = df['Defective_Units'] / df['Total_Produced']\n",
    "df['Date'] = pd.to_datetime(df['Date'])\n",
    "df.head()"
   ]
  },
  {
   "cell_type": "markdown",
   "id": "a532fbad",
   "metadata": {},
   "source": [
    "## 4. Binomial Distribution Modeling"
   ]
  },
  {
   "cell_type": "markdown",
   "id": "6e21634c",
   "metadata": {},
   "source": [
    "### Probability of exactly 15 defective units (n=1000, p=0.015)"
   ]
  },
  {
   "cell_type": "code",
   "execution_count": 18,
   "id": "8e1fb946",
   "metadata": {},
   "outputs": [
    {
     "data": {
      "text/plain": [
       "0.10321275718527624"
      ]
     },
     "execution_count": 18,
     "metadata": {},
     "output_type": "execute_result"
    }
   ],
   "source": [
    "from scipy.stats import binom\n",
    "binom.pmf(15, n=1000, p=0.015)"
   ]
  },
  {
   "cell_type": "markdown",
   "id": "dd6255b4",
   "metadata": {},
   "source": [
    "### Probability of getting 20 or fewer defects"
   ]
  },
  {
   "cell_type": "code",
   "execution_count": 20,
   "id": "4ec18333-9593-49ec-a9ee-b55d91af6b9e",
   "metadata": {},
   "outputs": [
    {
     "data": {
      "text/plain": [
       "0.9186065402319624"
      ]
     },
     "execution_count": 20,
     "metadata": {},
     "output_type": "execute_result"
    }
   ],
   "source": [
    "binom.cdf(20, n=1000, p=0.015)"
   ]
  },
  {
   "cell_type": "markdown",
   "id": "ce6a36fa",
   "metadata": {},
   "source": [
    "### Simulate expected defect count distribution"
   ]
  },
  {
   "cell_type": "code",
   "execution_count": 22,
   "id": "8d05a38a-b6b2-476a-a9ca-50c3771956ad",
   "metadata": {},
   "outputs": [
    {
     "data": {
      "text/plain": [
       "array([2.73042655e-07, 4.15800997e-06, 3.16283144e-05, 1.60228720e-04,\n",
       "       6.08177793e-04, 1.84490888e-03, 4.65909729e-03, 1.00750023e-02,\n",
       "       1.90440557e-02, 3.19656569e-02, 4.82405574e-02, 6.61164999e-02,\n",
       "       8.29812417e-02, 9.60392035e-02, 1.03108079e-01, 1.03212757e-01,\n",
       "       9.67619599e-02, 8.52915215e-02, 7.09319506e-02, 5.58283533e-02,\n",
       "       4.17012294e-02, 2.96353915e-02, 2.00828668e-02, 1.30044430e-02,\n",
       "       8.06176447e-03, 4.79286221e-03, 2.73704060e-03, 1.50359704e-03,\n",
       "       7.95685233e-04, 4.06129554e-04, 2.00178577e-04, 9.53855672e-05,\n",
       "       4.39856986e-05, 1.96484339e-05, 8.51001892e-06, 3.57679983e-06,\n",
       "       1.46007269e-06, 5.79301717e-07, 2.23564341e-07, 8.39784836e-08,\n",
       "       3.07246153e-08, 1.09554156e-08, 3.80937040e-09, 1.29242481e-09,\n",
       "       4.28074714e-10, 1.38490500e-10, 4.37845157e-11, 1.35339976e-11,\n",
       "       4.09197327e-12, 1.21067810e-12])"
      ]
     },
     "execution_count": 22,
     "metadata": {},
     "output_type": "execute_result"
    }
   ],
   "source": [
    "x = np.arange(0, 50)\n",
    "p = 0.015\n",
    "binom_pmf = binom.pmf(x, 1000, p)\n",
    "binom_pmf"
   ]
  },
  {
   "cell_type": "code",
   "execution_count": 23,
   "id": "f52e67e3",
   "metadata": {},
   "outputs": [
    {
     "data": {
      "image/png": "[encoded data removed]",
      "text/plain": [
       "<Figure size 1200x500 with 1 Axes>"
      ]
     },
     "metadata": {},
     "output_type": "display_data"
    }
   ],
   "source": [
    "plt.figure(figsize=(12, 5))\n",
    "plt.bar(x, binom_pmf, color='skyblue')\n",
    "plt.title(\"Binomial Distribution: Defects in a Batch of 1000\")\n",
    "plt.xlabel(\"Defective Units\")\n",
    "plt.ylabel(\"Probability\")\n",
    "plt.show()"
   ]
  },
  {
   "cell_type": "markdown",
   "id": "4461f1ad",
   "metadata": {},
   "source": [
    "## 5. Hypothesis Testing (Simulate Process Change)"
   ]
  },
  {
   "cell_type": "markdown",
   "id": "9e6ffa32-86f1-4610-a63d-63188da2de0f",
   "metadata": {},
   "source": [
    "Assume we tag batches before and after a new QC process."
   ]
  },
  {
   "cell_type": "code",
   "execution_count": 26,
   "id": "35e63ac7",
   "metadata": {},
   "outputs": [],
   "source": [
    "# Simulate: First 100 = pre-QC, Last 100 = post-QC\n",
    "pre_qc = df.iloc[:100]['Defective_Units']\n",
    "post_qc = df.iloc[100:]['Defective_Units']"
   ]
  },
  {
   "cell_type": "code",
   "execution_count": 27,
   "id": "af6c0187-2979-4d8f-98e6-5983e0540742",
   "metadata": {},
   "outputs": [
    {
     "data": {
      "text/plain": [
       "0    20\n",
       "1    15\n",
       "2     8\n",
       "3    18\n",
       "4    14\n",
       "Name: Defective_Units, dtype: int64"
      ]
     },
     "execution_count": 27,
     "metadata": {},
     "output_type": "execute_result"
    }
   ],
   "source": [
    "pre_qc.head()"
   ]
  },
  {
   "cell_type": "code",
   "execution_count": 28,
   "id": "b9579b90-85bf-4cc5-9eee-b24695ab8d1f",
   "metadata": {},
   "outputs": [
    {
     "data": {
      "text/plain": [
       "100    21\n",
       "101    18\n",
       "102    11\n",
       "103     9\n",
       "104    19\n",
       "Name: Defective_Units, dtype: int64"
      ]
     },
     "execution_count": 28,
     "metadata": {},
     "output_type": "execute_result"
    }
   ],
   "source": [
    "post_qc.head()"
   ]
  },
  {
   "cell_type": "markdown",
   "id": "5061284e",
   "metadata": {},
   "source": [
    "# Independent t-test"
   ]
  },
  {
   "cell_type": "code",
   "execution_count": 30,
   "id": "d1cb137a-13bf-40a5-839d-5f9127437e9a",
   "metadata": {},
   "outputs": [
    {
     "name": "stdout",
     "output_type": "stream",
     "text": [
      "T-statistic: -1.746, P-value: 0.082\n"
     ]
    }
   ],
   "source": [
    "from scipy.stats import ttest_ind\n",
    "t_stat, p_value = ttest_ind(pre_qc, post_qc)\n",
    "print(f\"T-statistic: {t_stat:.3f}, P-value: {p_value:.3f}\")"
   ]
  },
  {
   "cell_type": "markdown",
   "id": "e8fab83b",
   "metadata": {},
   "source": [
    "### Interpretation:\n",
    "- If p < 0.05, there's statistically significant improvement after the QC process."
   ]
  },
  {
   "cell_type": "markdown",
   "id": "ee8deec5",
   "metadata": {},
   "source": [
    "## 6. Business Recommendations\n",
    "- Focus QC on machines or plants with higher defect rates.\n",
    "- Predict and flag high-risk batches using binomial thresholding.\n",
    "- Reduce waste, increase yield, and improve customer satisfaction.\n"
   ]
  },
  {
   "cell_type": "code",
   "execution_count": 33,
   "id": "6b692fa2-92bd-41f6-8f4f-e27350a8d3d6",
   "metadata": {},
   "outputs": [
    {
     "data": {
      "text/plain": [
       "Index(['Batch_ID', 'Date', 'Shift', 'Plant', 'State', 'Machine_Model',\n",
       "       'Machine_ID', 'Operator_ID', 'Total_Produced', 'Defective_Units',\n",
       "       'Defect_Rate'],\n",
       "      dtype='object')"
      ]
     },
     "execution_count": 33,
     "metadata": {},
     "output_type": "execute_result"
    }
   ],
   "source": [
    "df.columns"
   ]
  },
  {
   "cell_type": "code",
   "execution_count": 34,
   "id": "6a3c1797-7a92-42aa-ad12-c0e20dfa389b",
   "metadata": {},
   "outputs": [
    {
     "data": {
      "text/html": [
       "<div>\n",
       "<style scoped>\n",
       "    .dataframe tbody tr th:only-of-type {\n",
       "        vertical-align: middle;\n",
       "    }\n",
       "\n",
       "    .dataframe tbody tr th {\n",
       "        vertical-align: top;\n",
       "    }\n",
       "\n",
       "    .dataframe thead th {\n",
       "        text-align: right;\n",
       "    }\n",
       "</style>\n",
       "<table border=\"1\" class=\"dataframe\">\n",
       "  <thead>\n",
       "    <tr style=\"text-align: right;\">\n",
       "      <th></th>\n",
       "      <th>Batch_ID</th>\n",
       "      <th>Defective_Units</th>\n",
       "      <th>P(X = x)</th>\n",
       "      <th>P(X ≤ x)</th>\n",
       "    </tr>\n",
       "  </thead>\n",
       "  <tbody>\n",
       "    <tr>\n",
       "      <th>0</th>\n",
       "      <td>B001</td>\n",
       "      <td>20</td>\n",
       "      <td>0.041701</td>\n",
       "      <td>0.918607</td>\n",
       "    </tr>\n",
       "    <tr>\n",
       "      <th>1</th>\n",
       "      <td>B002</td>\n",
       "      <td>15</td>\n",
       "      <td>0.103213</td>\n",
       "      <td>0.568092</td>\n",
       "    </tr>\n",
       "    <tr>\n",
       "      <th>2</th>\n",
       "      <td>B003</td>\n",
       "      <td>8</td>\n",
       "      <td>0.019044</td>\n",
       "      <td>0.036428</td>\n",
       "    </tr>\n",
       "    <tr>\n",
       "      <th>3</th>\n",
       "      <td>B004</td>\n",
       "      <td>18</td>\n",
       "      <td>0.070932</td>\n",
       "      <td>0.821077</td>\n",
       "    </tr>\n",
       "    <tr>\n",
       "      <th>4</th>\n",
       "      <td>B005</td>\n",
       "      <td>14</td>\n",
       "      <td>0.103108</td>\n",
       "      <td>0.464879</td>\n",
       "    </tr>\n",
       "  </tbody>\n",
       "</table>\n",
       "</div>"
      ],
      "text/plain": [
       "  Batch_ID  Defective_Units  P(X = x)  P(X ≤ x)\n",
       "0     B001               20  0.041701  0.918607\n",
       "1     B002               15  0.103213  0.568092\n",
       "2     B003                8  0.019044  0.036428\n",
       "3     B004               18  0.070932  0.821077\n",
       "4     B005               14  0.103108  0.464879"
      ]
     },
     "execution_count": 34,
     "metadata": {},
     "output_type": "execute_result"
    }
   ],
   "source": [
    " #Assume total produced is 1000 for each batch, and defect probability is 0.015\n",
    "df['P(X = x)'] = binom.pmf(df['Defective_Units'], df['Total_Produced'], 0.015)\n",
    "df['P(X ≤ x)'] = binom.cdf(df['Defective_Units'], df['Total_Produced'], 0.015)\n",
    "\n",
    "df[['Batch_ID', 'Defective_Units', 'P(X = x)', 'P(X ≤ x)']].head()"
   ]
  },
  {
   "cell_type": "code",
   "execution_count": 35,
   "id": "8dfa75c6-b3c3-4027-a0ef-4452cfdb7928",
   "metadata": {},
   "outputs": [
    {
     "data": {
      "text/html": [
       "<div>\n",
       "<style scoped>\n",
       "    .dataframe tbody tr th:only-of-type {\n",
       "        vertical-align: middle;\n",
       "    }\n",
       "\n",
       "    .dataframe tbody tr th {\n",
       "        vertical-align: top;\n",
       "    }\n",
       "\n",
       "    .dataframe thead th {\n",
       "        text-align: right;\n",
       "    }\n",
       "</style>\n",
       "<table border=\"1\" class=\"dataframe\">\n",
       "  <thead>\n",
       "    <tr style=\"text-align: right;\">\n",
       "      <th></th>\n",
       "      <th>Batch_ID</th>\n",
       "      <th>Date</th>\n",
       "      <th>Shift</th>\n",
       "      <th>Plant</th>\n",
       "      <th>State</th>\n",
       "      <th>Machine_Model</th>\n",
       "      <th>Machine_ID</th>\n",
       "      <th>Operator_ID</th>\n",
       "      <th>Total_Produced</th>\n",
       "      <th>Defective_Units</th>\n",
       "      <th>Defect_Rate</th>\n",
       "      <th>P(X = x)</th>\n",
       "      <th>P(X ≤ x)</th>\n",
       "    </tr>\n",
       "  </thead>\n",
       "  <tbody>\n",
       "    <tr>\n",
       "      <th>0</th>\n",
       "      <td>B001</td>\n",
       "      <td>2025-01-16</td>\n",
       "      <td>B</td>\n",
       "      <td>Plant1</td>\n",
       "      <td>Maharashtra</td>\n",
       "      <td>MX-1000</td>\n",
       "      <td>M01</td>\n",
       "      <td>O109</td>\n",
       "      <td>1000</td>\n",
       "      <td>20</td>\n",
       "      <td>0.020</td>\n",
       "      <td>0.041701</td>\n",
       "      <td>0.918607</td>\n",
       "    </tr>\n",
       "    <tr>\n",
       "      <th>1</th>\n",
       "      <td>B002</td>\n",
       "      <td>2025-02-25</td>\n",
       "      <td>B</td>\n",
       "      <td>Plant3</td>\n",
       "      <td>Tamil Nadu</td>\n",
       "      <td>MX-3000</td>\n",
       "      <td>M05</td>\n",
       "      <td>O112</td>\n",
       "      <td>1000</td>\n",
       "      <td>15</td>\n",
       "      <td>0.015</td>\n",
       "      <td>0.103213</td>\n",
       "      <td>0.568092</td>\n",
       "    </tr>\n",
       "    <tr>\n",
       "      <th>2</th>\n",
       "      <td>B003</td>\n",
       "      <td>2025-01-31</td>\n",
       "      <td>C</td>\n",
       "      <td>Plant2</td>\n",
       "      <td>Tamil Nadu</td>\n",
       "      <td>MX-3000</td>\n",
       "      <td>M03</td>\n",
       "      <td>O119</td>\n",
       "      <td>1000</td>\n",
       "      <td>8</td>\n",
       "      <td>0.008</td>\n",
       "      <td>0.019044</td>\n",
       "      <td>0.036428</td>\n",
       "    </tr>\n",
       "    <tr>\n",
       "      <th>3</th>\n",
       "      <td>B004</td>\n",
       "      <td>2025-01-22</td>\n",
       "      <td>C</td>\n",
       "      <td>Plant1</td>\n",
       "      <td>Gujarat</td>\n",
       "      <td>MX-2000</td>\n",
       "      <td>M05</td>\n",
       "      <td>O107</td>\n",
       "      <td>1000</td>\n",
       "      <td>18</td>\n",
       "      <td>0.018</td>\n",
       "      <td>0.070932</td>\n",
       "      <td>0.821077</td>\n",
       "    </tr>\n",
       "    <tr>\n",
       "      <th>4</th>\n",
       "      <td>B005</td>\n",
       "      <td>2025-01-11</td>\n",
       "      <td>A</td>\n",
       "      <td>Plant2</td>\n",
       "      <td>Tamil Nadu</td>\n",
       "      <td>MX-3000</td>\n",
       "      <td>M06</td>\n",
       "      <td>O105</td>\n",
       "      <td>1000</td>\n",
       "      <td>14</td>\n",
       "      <td>0.014</td>\n",
       "      <td>0.103108</td>\n",
       "      <td>0.464879</td>\n",
       "    </tr>\n",
       "  </tbody>\n",
       "</table>\n",
       "</div>"
      ],
      "text/plain": [
       "  Batch_ID       Date Shift   Plant        State Machine_Model Machine_ID  \\\n",
       "0     B001 2025-01-16     B  Plant1  Maharashtra       MX-1000        M01   \n",
       "1     B002 2025-02-25     B  Plant3   Tamil Nadu       MX-3000        M05   \n",
       "2     B003 2025-01-31     C  Plant2   Tamil Nadu       MX-3000        M03   \n",
       "3     B004 2025-01-22     C  Plant1      Gujarat       MX-2000        M05   \n",
       "4     B005 2025-01-11     A  Plant2   Tamil Nadu       MX-3000        M06   \n",
       "\n",
       "  Operator_ID  Total_Produced  Defective_Units  Defect_Rate  P(X = x)  \\\n",
       "0        O109            1000               20        0.020  0.041701   \n",
       "1        O112            1000               15        0.015  0.103213   \n",
       "2        O119            1000                8        0.008  0.019044   \n",
       "3        O107            1000               18        0.018  0.070932   \n",
       "4        O105            1000               14        0.014  0.103108   \n",
       "\n",
       "   P(X ≤ x)  \n",
       "0  0.918607  \n",
       "1  0.568092  \n",
       "2  0.036428  \n",
       "3  0.821077  \n",
       "4  0.464879  "
      ]
     },
     "execution_count": 35,
     "metadata": {},
     "output_type": "execute_result"
    }
   ],
   "source": [
    "df.head()"
   ]
  },
  {
   "cell_type": "code",
   "execution_count": 55,
   "id": "9e2bba60-5c81-4054-8da0-dcc44d43f6c5",
   "metadata": {},
   "outputs": [],
   "source": [
    "df.to_csv('binom_output_manufacturing_defects')"
   ]
  },
  {
   "cell_type": "code",
   "execution_count": null,
   "id": "77c5a5a1-3854-4188-8917-1cd8564263da",
   "metadata": {},
   "outputs": [],
   "source": []
  }
 ],
 "metadata": {
  "kernelspec": {
   "display_name": "Python [conda env:base] *",
   "language": "python",
   "name": "conda-base-py"
  },
  "language_info": {
   "codemirror_mode": {
    "name": "ipython",
    "version": 3
   },
   "file_extension": ".py",
   "mimetype": "text/x-python",
   "name": "python",
   "nbconvert_exporter": "python",
   "pygments_lexer": "ipython3",
   "version": "3.12.7"
  }
 },
 "nbformat": 4,
 "nbformat_minor": 5
}
